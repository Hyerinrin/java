import pandas as pd
import numpy as np
import matplotlib.pyplot as plt

plt.rcParams['font.family']='Malgun Gothic'
plt.rcParams['axes.unicode_minus'] = False

data1 = pd.read_csv('data/2014년 졸음운전 교통사고.csv',encoding='euc-kr') 
data2 = pd.read_csv('data/2015년 졸음운전 교통사고.csv',encoding='euc-kr') 
data3 = pd.read_csv('data/2016년 졸음운전 교통사고.csv',encoding='euc-kr') 
display(data1)
display(data2)
display(data3)

#####################
# 1. 2014년부터 2016년까지의 졸음운전 교통사고 발생 횟수의 총합과 평균 구하기
print("2014년 사고 건수: ", data1['사고(건)'].sum())
print("2015년 사고 건수: ", data2['사고(건)'].sum())
print("2016년 사고 건수: ", data3['사고(건)'].sum())
print()

print("2014년 사고 평균 건수: ", int(data1['사고(건)'].mean()))
print("2015년 사고 평균 건수: ", int(data2['사고(건)'].mean()))
print("2016년 사고 평균 건수: ", int(data3['사고(건)'].mean()))

# 2. 각 연도별 졸음운전 교통사고 발생 건수의 추이 시각화하기
# 그래프를 그릴 subplot 생성
fig, axs = plt.subplots(3, 1, figsize=(10, 15))  # 3행 1열의 subplot 생성, figsize는 전체 그림의 크기 설정

# 각 subplot에 'data1', 'data2', 'data3'의 그래프 그리기
data1.set_index('구분')['사고(건)'].plot(ax=axs[0])  # 첫 번째 subplot에 data1 그래프 그리기
data2.set_index('구분')['사고(건)'].plot(ax=axs[1])  # 두 번째 subplot에 data2 그래프 그리기
data3.set_index('구분')['사고(건)'].plot(ax=axs[2])  # 세 번째 subplot에 data3 그래프 그리기

# 각 subplot의 타이틀 설정
axs[0].set_title('Data1(2014)의 사고 건수')  
axs[1].set_title('Data2(2015)의 사고 건수')  
axs[2].set_title('Data3(2016)의 사고 건수')  

# 전체 그래프의 x축 라벨 설정
plt.xlabel('날짜')

# 전체 그래프의 y축 라벨 설정
plt.ylabel('건수')

# 그래프 간의 간격 조정
plt.tight_layout()

# 그래프 표시
plt.show()

# 3. 졸음운전 교통사고 발생 건수가 가장 많은 연도와 해당 연도의 월별 사고 발생 추이 시각화하기

# 졸음운전 교통사고 발생 건수가 가장 많은 연도
r = np.array([data1['사고(건)'].sum(),data2['사고(건)'].sum(),data3['사고(건)'].sum()])
max_value = np.max(r)

# 즉 졸음운전 사고가 가장 많이 발생한 연도는 총 2701건이 발생한 2015년이다.
# 2015년 데이터 월별 발생 추이 시각화(data2이용)
data2.set_index('구분',inplace=True)

data2['사고(건)'].plot()
