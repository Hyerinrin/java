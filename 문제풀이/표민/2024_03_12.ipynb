{
  "nbformat": 4,
  "nbformat_minor": 0,
  "metadata": {
    "colab": {
      "provenance": []
    },
    "kernelspec": {
      "name": "python3",
      "display_name": "Python 3"
    },
    "language_info": {
      "name": "python"
    }
  },
  "cells": [
    {
      "cell_type": "code",
      "source": [
        "#주어진 문자열에서 l이 몇 번 등장하는지 세시오(count)\n",
        "text = \"hello world\"\n",
        "char = \"l\"\n",
        "\n",
        "#문자열에서 공백을 모두 제거한 후에 결과를 출력하세요.(replace)\n",
        "text = \"hello world\"\n",
        "\n",
        "#해당 문자열을 거꾸로 출력하세요.(reverse)\n",
        "text =  \"python\"\n",
        "\n",
        "#주어진 리스트에서 중복된 항목을 제거하고, 결과를 출력하세요.(set)\n",
        "list = [1, 2, 2, 3, 4, 4, 5]\n",
        "\n",
        "#주어진 리스트를 역순으로 정렬한 결과를 출력하세요.(reverse)\n",
        "list = [3, 1, 4, 1, 5, 9, 2]\n",
        "\n",
        "#주어진 리스트에 있는 모든 숫자의 합을 계산하여 출력하세요.(sum)\n",
        "list = [1, 2, 3, 4, 5]\n",
        "\n",
        "#해당 리스트의 최대값과 최소값을 출력하세요.(min,max)\n",
        "list = [5, 2, 7, 1, 9]\n",
        "\n",
        "#해당 리스트에 add리스트를 더하시오(extend)\n",
        "list = [1, 2, 3, 4, 5]\n",
        "add = [9, 8, 7]\n",
        "\n",
        "# 숫자 4를 리스트 안에 있는 숫자1 뒤에 삽입하시오(insert)\n",
        "list = [1, 2, 3, 5]"
      ],
      "metadata": {
        "id": "ij0WTH2Ex1GK"
      },
      "execution_count": null,
      "outputs": []
    },
    {
      "cell_type": "code",
      "source": [
        "#주어진 문자열에서 l이 몇 번 등장하는지 세시오(count)\n",
        "text = \"hello world\"\n",
        "char = \"l\"\n",
        "print(text.count(char))"
      ],
      "metadata": {
        "colab": {
          "base_uri": "https://localhost:8080/"
        },
        "id": "OHxqQQZPyL6c",
        "outputId": "bfc13707-fdc3-4fc5-bd19-80455cf4f31d"
      },
      "execution_count": 1,
      "outputs": [
        {
          "output_type": "stream",
          "name": "stdout",
          "text": [
            "3\n"
          ]
        }
      ]
    },
    {
      "cell_type": "code",
      "source": [
        "#문자열에서 공백을 모두 제거한 후에 결과를 출력하세요.(replace)\n",
        "text = \"hello world\"\n",
        "print(text.replace(' ',''))"
      ],
      "metadata": {
        "colab": {
          "base_uri": "https://localhost:8080/"
        },
        "id": "6qJA81XgyMEq",
        "outputId": "5ceb06a3-0295-48e8-9205-69ed8882f476"
      },
      "execution_count": 2,
      "outputs": [
        {
          "output_type": "stream",
          "name": "stdout",
          "text": [
            "helloworld\n"
          ]
        }
      ]
    },
    {
      "cell_type": "code",
      "source": [
        "#해당 문자열을 거꾸로 출력하세요.(reverse)\n",
        "text =  \"python\"\n",
        "print(text[::-1])"
      ],
      "metadata": {
        "colab": {
          "base_uri": "https://localhost:8080/"
        },
        "id": "zrzkU7nfylYs",
        "outputId": "16e470e7-555e-4ca5-a46d-a53afbebcf54"
      },
      "execution_count": 4,
      "outputs": [
        {
          "output_type": "stream",
          "name": "stdout",
          "text": [
            "nohtyp\n"
          ]
        }
      ]
    },
    {
      "cell_type": "code",
      "source": [
        "#주어진 리스트에서 중복된 항목을 제거하고, 결과를 출력하세요.(set)\n",
        "list = [1, 2, 2, 3, 4, 4, 5]\n",
        "print(set(list))"
      ],
      "metadata": {
        "colab": {
          "base_uri": "https://localhost:8080/"
        },
        "id": "lK3A47H8ylby",
        "outputId": "70973580-80b2-4ec2-abe4-6f6c612e4da0"
      },
      "execution_count": 5,
      "outputs": [
        {
          "output_type": "stream",
          "name": "stdout",
          "text": [
            "{1, 2, 3, 4, 5}\n"
          ]
        }
      ]
    },
    {
      "cell_type": "code",
      "source": [
        "#주어진 리스트를 역순으로 정렬한 결과를 출력하세요.(reverse)\n",
        "list = [3, 1, 4, 1, 5, 9, 2]\n",
        "list.reverse()\n",
        "print(list)"
      ],
      "metadata": {
        "colab": {
          "base_uri": "https://localhost:8080/"
        },
        "id": "XzjUT3thy01D",
        "outputId": "839ffe9a-6164-4cfe-8729-2e61bcf817d7"
      },
      "execution_count": 7,
      "outputs": [
        {
          "output_type": "stream",
          "name": "stdout",
          "text": [
            "[2, 9, 5, 1, 4, 1, 3]\n"
          ]
        }
      ]
    },
    {
      "cell_type": "code",
      "source": [
        "#주어진 리스트에 있는 모든 숫자의 합을 계산하여 출력하세요.(sum)\n",
        "list = [1, 2, 3, 4, 5]\n",
        "print(sum(list))"
      ],
      "metadata": {
        "colab": {
          "base_uri": "https://localhost:8080/"
        },
        "id": "l3v-ePf2y1MC",
        "outputId": "d5537c62-fc9c-4844-932f-968174979a57"
      },
      "execution_count": 8,
      "outputs": [
        {
          "output_type": "stream",
          "name": "stdout",
          "text": [
            "15\n"
          ]
        }
      ]
    },
    {
      "cell_type": "code",
      "source": [
        "#해당 리스트의 최대값과 최소값을 출력하세요.(min,max)\n",
        "list = [5, 2, 7, 1, 9]\n",
        "\n",
        "print(max(list))\n",
        "print(min(list))"
      ],
      "metadata": {
        "colab": {
          "base_uri": "https://localhost:8080/"
        },
        "id": "NxZlBELOyled",
        "outputId": "a13d7bea-7535-4b79-8de5-3506e4a5ad5f"
      },
      "execution_count": 9,
      "outputs": [
        {
          "output_type": "stream",
          "name": "stdout",
          "text": [
            "9\n",
            "1\n"
          ]
        }
      ]
    },
    {
      "cell_type": "code",
      "source": [
        "#해당 리스트에 add리스트를 더하시오(extend)\n",
        "list = [1, 2, 3, 4, 5]\n",
        "add = [9, 8, 7]\n",
        "\n",
        "list.extend(add)\n",
        "print(list)"
      ],
      "metadata": {
        "colab": {
          "base_uri": "https://localhost:8080/"
        },
        "id": "zVn5oIVAylhK",
        "outputId": "2b9aa9fc-bfaf-4f0b-ad53-596a4193de4d"
      },
      "execution_count": 11,
      "outputs": [
        {
          "output_type": "stream",
          "name": "stdout",
          "text": [
            "[1, 2, 3, 4, 5, 9, 8, 7]\n"
          ]
        }
      ]
    },
    {
      "cell_type": "code",
      "source": [
        "# 숫자 4를 리스트 안에 있는 숫자1 뒤에 삽입하시오(insert)\n",
        "list = [1, 2, 3, 5]\n",
        "list.insert(1,4)\n",
        "print(list)"
      ],
      "metadata": {
        "colab": {
          "base_uri": "https://localhost:8080/"
        },
        "id": "h-g5SUOoylkC",
        "outputId": "9b57c721-2255-4c6f-906f-4b4fc0be4e3d"
      },
      "execution_count": 12,
      "outputs": [
        {
          "output_type": "stream",
          "name": "stdout",
          "text": [
            "[1, 4, 2, 3, 5]\n"
          ]
        }
      ]
    }
  ]
}