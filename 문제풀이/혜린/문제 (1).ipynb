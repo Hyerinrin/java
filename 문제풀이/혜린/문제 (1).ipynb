{
 "cells": [
  {
   "cell_type": "code",
   "execution_count": null,
   "id": "644ad907-f9c3-437b-a38b-587b35551a65",
   "metadata": {},
   "outputs": [],
   "source": [
    "# 서울시 공공도서관 위치를 지도에 출력해보는 예제\n",
    "# 한글처리\n",
    "import matplotlib.pyplot as plt\n",
    "import numpy as np\n",
    "import mplcursors\n",
    "import warnings\n",
    "import csv\n",
    "import pandas as pd\n",
    "# 데이터시각화 tool\n",
    "from plotnine import * # r의 ggplot2 시각화패키지를 python에서도 사용\n",
    "import folium\n",
    "import re\n",
    "\n",
    "plt.rcParams['font.family'] = 'D2Coding'\n",
    "plt.rcParams['axes.unicode_minus'] = False\n",
    "warnings.filterwarnings('ignore')\n",
    "\n",
    "library = pd.read_csv('./서울시 공공도서관 현황정보.csv',delimiter=',', encoding='cp949')\n",
    "display(library)"
   ]
  },
  {
   "cell_type": "code",
   "execution_count": null,
   "id": "4810d3ea-f323-45b1-aff3-07396dffcdba",
   "metadata": {},
   "outputs": [],
   "source": [
    "# 구별 도서관 개수 \n",
    "# 출력문\n",
    "구명\n",
    "강남구     16\n",
    "강동구     10\n",
    "강북구      7\n",
    "강서구      9\n",
    "관악구      5\n",
    "광진구      7\n",
    "구로구     12\n",
    "금천구      4\n",
    "노원구      9\n",
    "도봉구      9\n",
    "동대문구     9\n",
    "동작구      8\n",
    "마포구      6\n",
    "서대문구     4\n",
    "서초구      9\n",
    "성동구      7\n",
    "성북구     13\n",
    "송파구     12\n",
    "양천구     10\n",
    "영등포구     6\n",
    "용산구      4\n",
    "은평구      8\n",
    "종로구      9\n",
    "중구       8\n",
    "중랑구      5\n",
    "dtype: int64"
   ]
  },
  {
   "cell_type": "code",
   "execution_count": null,
   "id": "c635becb-e8d0-40a2-bc80-bff987f33906",
   "metadata": {},
   "outputs": [],
   "source": [
    "# 1) scatter, library => 시각화(위치)"
   ]
  },
  {
   "cell_type": "code",
   "execution_count": null,
   "id": "b8dde04c-6519-48c7-af36-b0dd519bbe7d",
   "metadata": {},
   "outputs": [],
   "source": [
    "# 2) plotnine, ggplot2"
   ]
  },
  {
   "cell_type": "code",
   "execution_count": null,
   "id": "401380f4-e4b8-4e46-aa2e-6e2c2547c9a8",
   "metadata": {},
   "outputs": [],
   "source": [
    "# 3) folium으로 시각화\n",
    "lng = library.위도.mean()\n",
    "lat = library.경도.mean()\n",
    "lng,lat\n",
    "\n",
    "# 팝업 내용은 library_info로 팝업 창의 너비는 300으로 해주세요!\n",
    "# fill, radius, icon_color 옵션은 마음대로 설정!!!\n",
    "# library_info = (library.loc[lib, '도서관명'] + '-' + library.loc[lib, '주소'] + \n",
    "#                     '전화번호 : ' + str(library.loc[lib, '전화번호']) + \n",
    "#                     '운영시간 : ' + str(library.loc[lib, '운영시간']) + \n",
    "#                     '정기 휴관일 : ' + str(library.loc[lib, '정기 휴관일']))"
   ]
  }
 ],
 "metadata": {
  "kernelspec": {
   "display_name": "Python 3 (ipykernel)",
   "language": "python",
   "name": "python3"
  },
  "language_info": {
   "codemirror_mode": {
    "name": "ipython",
    "version": 3
   },
   "file_extension": ".py",
   "mimetype": "text/x-python",
   "name": "python",
   "nbconvert_exporter": "python",
   "pygments_lexer": "ipython3",
   "version": "3.11.7"
  }
 },
 "nbformat": 4,
 "nbformat_minor": 5
}
