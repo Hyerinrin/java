{
 "cells": [
  {
   "cell_type": "code",
   "execution_count": null,
   "id": "20fe300d-bf0b-45da-8b83-2d096f91e3e1",
   "metadata": {},
   "outputs": [],
   "source": [
    "# >>>>>>>>>>> 파이썬 복습개념 <<<<<<<<<<<<\n",
    "\n",
    "\n",
    "\n",
    "# 문제1) 다음 코드를 실행해보고 오류가 발생하는 원인은?\n",
    "  \n",
    "# >> t = (1, 2, 3)\n",
    "# >> t[0] = 'a'\n",
    "# Traceback (most recent call last):\n",
    "#   File \"<pyshell#46>\", line 1, in <module>\n",
    "#     t[0] = 'a'\n",
    "# TypeError: 'tuple' object does not support item assignment\n",
    "\n",
    "'원인 : 튜플은 요소의 수정이 불가능하다.'"
   ]
  },
  {
   "cell_type": "code",
   "execution_count": 1,
   "id": "2ee22339-2557-449a-852c-3d1735ec44c0",
   "metadata": {},
   "outputs": [
    {
     "name": "stdout",
     "output_type": "stream",
     "text": [
      "['삼성전자', 'LG전자', 'SK Hynix']\n"
     ]
    }
   ],
   "source": [
    "# 문제2) 다음 튜플을 리스트로 변환하시오\n",
    "  \n",
    "interest = ('삼성전자', 'LG전자', 'SK Hynix')\n",
    "\n",
    "l = list(interest)\n",
    "print(l)"
   ]
  },
  {
   "cell_type": "code",
   "execution_count": 5,
   "id": "b57eca30-bad1-470a-bc6b-ba2f5833784b",
   "metadata": {},
   "outputs": [
    {
     "name": "stdout",
     "output_type": "stream",
     "text": [
      "(2, 4, 6, 8, 10, 12, 14, 16, 18, 20, 22, 24, 26, 28, 30, 32, 34, 36, 38, 40, 42, 44, 46, 48, 50, 52, 54, 56, 58, 60, 62, 64, 66, 68, 70, 72, 74, 76, 78, 80, 82, 84, 86, 88, 90, 92, 94, 96, 98)\n"
     ]
    }
   ],
   "source": [
    "# 문제3) 1 부터 99까지의 정수 중 짝수만 저장된 튜플을 생성하시오\n",
    "  \n",
    "#  예시: (2, 4, 6, 8 ... 98)\n",
    "t = tuple(range(2,100,2))\n",
    "print(t)"
   ]
  },
  {
   "cell_type": "code",
   "execution_count": 6,
   "id": "192381fc-7c2e-48b8-b16e-dd46fb166252",
   "metadata": {},
   "outputs": [
    {
     "name": "stdout",
     "output_type": "stream",
     "text": [
      "{'메로나': 1000, '폴라포': 1200, '빵빠레': 1800}\n"
     ]
    }
   ],
   "source": [
    "# 문제4) 다음 아이스크림 이름과 희망 가격을 딕셔너리로 구성하시오\n",
    "\n",
    "\n",
    "# 이름\t희망 가격\n",
    "# 메로나 \t1000\n",
    "# 폴라포 \t1200\n",
    "# 빵빠레 \t1800\n",
    "\n",
    "d = {\n",
    "    '메로나':1000,\n",
    "    '폴라포':1200,\n",
    "    '빵빠레':1800\n",
    "}\n",
    "print(d)"
   ]
  },
  {
   "cell_type": "code",
   "execution_count": 8,
   "id": "984442df-f119-4646-a6b2-e8431614ff0f",
   "metadata": {},
   "outputs": [
    {
     "name": "stdout",
     "output_type": "stream",
     "text": [
      "[1200, 1200, 1800, 1500, 1000]\n"
     ]
    }
   ],
   "source": [
    "# 문제5) 다음의 딕셔너리에서 values 값으로만 구성된 리스트를 생성하시오\n",
    "\n",
    "icecream = {'탱크보이': 1200, '폴라포': 1200, '빵빠레': 1800, '월드콘': 1500, '메로나': 1000}\n",
    "\n",
    "# 정답)\n",
    "\n",
    "l = list(icecream.values())\n",
    "print(l)\n",
    "  "
   ]
  }
 ],
 "metadata": {
  "kernelspec": {
   "display_name": "Python 3 (ipykernel)",
   "language": "python",
   "name": "python3"
  },
  "language_info": {
   "codemirror_mode": {
    "name": "ipython",
    "version": 3
   },
   "file_extension": ".py",
   "mimetype": "text/x-python",
   "name": "python",
   "nbconvert_exporter": "python",
   "pygments_lexer": "ipython3",
   "version": "3.11.7"
  }
 },
 "nbformat": 4,
 "nbformat_minor": 5
}
