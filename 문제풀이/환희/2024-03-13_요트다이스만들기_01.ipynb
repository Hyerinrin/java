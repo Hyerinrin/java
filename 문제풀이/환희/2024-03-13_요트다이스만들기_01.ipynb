{
  "nbformat": 4,
  "nbformat_minor": 0,
  "metadata": {
    "colab": {
      "provenance": []
    },
    "kernelspec": {
      "name": "python3",
      "display_name": "Python 3"
    },
    "language_info": {
      "name": "python"
    }
  },
  "cells": [
    {
      "cell_type": "markdown",
      "source": [
        "# 요트다이스 만들기_01 aka.야추다이스\n",
        "\n",
        "### 4 of a Kind, Yacht 구현"
      ],
      "metadata": {
        "id": "5yR1ak966d0H"
      }
    },
    {
      "cell_type": "code",
      "execution_count": 42,
      "metadata": {
        "colab": {
          "base_uri": "https://localhost:8080/"
        },
        "id": "X1FWVb5_u6WZ",
        "outputId": "c24ab048-c247-4d30-e4da-4e2bccef1829"
      },
      "outputs": [
        {
          "output_type": "stream",
          "name": "stdout",
          "text": [
            "3 3 1\n",
            "7\n"
          ]
        }
      ],
      "source": [
        "# 4 of a Kind : 주사위를 굴려 동일한 주사위 눈이 2개 이상일 때. point에 주사위 눈 3개의 총합 추가.\n",
        "\n",
        "import random\n",
        "import math\n",
        "\n",
        "dice1 = int(random.random()*3+1)\n",
        "dice2 = int(random.random()*3+1)\n",
        "dice3 = int(random.random()*3+1)\n",
        "point = 0\n",
        "\n",
        "if ((dice1 == dice2) or (dice1 == dice3) or (dice2 == dice3) and (dice1==dice2)or (dice2==dice3) or (dice3==dice1)) :\n",
        "    point = dice1 + dice2 + dice3\n",
        "\n",
        "\n",
        "print(dice1,dice2,dice3)\n",
        "print(point)"
      ]
    },
    {
      "cell_type": "code",
      "source": [
        "# Yacht : 주사위를 굴려 동일한 주사위 눈이 3개 이상일 때. point에 30점 추가.\n",
        "\n",
        "dice1 = int(random.random()*3+1)\n",
        "dice2 = int(random.random()*3+1)\n",
        "dice3 = int(random.random()*3+1)\n",
        "point = 0\n",
        "\n",
        "if  (dice1 == dice2 == dice3):\n",
        "    point += 30\n",
        "\n",
        "print(dice1,dice2,dice3)\n",
        "print(point)"
      ],
      "metadata": {
        "colab": {
          "base_uri": "https://localhost:8080/"
        },
        "id": "sJ5VuOOTzwuI",
        "outputId": "6b9ddc15-f1a9-4bb3-894b-bed7b785ace6"
      },
      "execution_count": 40,
      "outputs": [
        {
          "output_type": "stream",
          "name": "stdout",
          "text": [
            "1 1 1\n",
            "30\n"
          ]
        }
      ]
    }
  ]
}