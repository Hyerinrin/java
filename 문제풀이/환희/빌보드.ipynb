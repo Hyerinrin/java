{
 "cells": [
  {
   "cell_type": "code",
   "execution_count": null,
   "id": "ae3246ce-41ed-4b37-8cb7-638967dc91c9",
   "metadata": {},
   "outputs": [],
   "source": [
    "from bs4 import BeautifulSoup as bs\n",
    "from urllib.parse import quote\n",
    "from urllib.request import urlopen\n",
    "import json\n",
    "\n",
    "url = f'https://www.billboard.com/charts/hot-100/'\n",
    "\n",
    "html = urlopen(url)\n",
    "soup = bs(html, 'html.parser')\n",
    "\n",
    "lists = soup.find('div',{'class':'chart-results-list'}).find_all('div',{'class':'o-chart-results-list-row-container'})\n",
    "\n",
    "data = []\n",
    "\n",
    "for items in lists:\n",
    "    title = items.find('h3',{'class':'c-title'}).string.strip()\n",
    "    artist = items.find('h3',{'class':'c-title'}).find_next().string.strip()\n",
    "    \n",
    "    song_info = {\n",
    "        \"title\": title,\n",
    "        \"artist\": artist\n",
    "    }\n",
    "\n",
    "    data.append(song_info)\n",
    "\n",
    "with open('Ex01.json', 'w') as f:\n",
    "    json.dump(data, f)"
   ]
  }
 ],
 "metadata": {
  "kernelspec": {
   "display_name": "Python 3 (ipykernel)",
   "language": "python",
   "name": "python3"
  },
  "language_info": {
   "codemirror_mode": {
    "name": "ipython",
    "version": 3
   },
   "file_extension": ".py",
   "mimetype": "text/x-python",
   "name": "python",
   "nbconvert_exporter": "python",
   "pygments_lexer": "ipython3",
   "version": "3.11.7"
  }
 },
 "nbformat": 4,
 "nbformat_minor": 5
}
